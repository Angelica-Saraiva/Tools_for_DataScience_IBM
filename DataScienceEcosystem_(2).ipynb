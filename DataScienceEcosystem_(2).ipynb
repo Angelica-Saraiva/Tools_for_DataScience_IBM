{
  "cells": [
    {
      "cell_type": "markdown",
      "metadata": {
        "id": "view-in-github",
        "colab_type": "text"
      },
      "source": [
        "<a href=\"https://colab.research.google.com/github/Angelica-Saraiva/Tools_for_DataScience_IBM/blob/main/DataScienceEcosystem_(2).ipynb\" target=\"_parent\"><img src=\"https://colab.research.google.com/assets/colab-badge.svg\" alt=\"Open In Colab\"/></a>"
      ]
    },
    {
      "cell_type": "markdown",
      "metadata": {
        "id": "hwq0GwOSH8e1"
      },
      "source": [
        "<center>\n",
        "    <img src=\"https://cf-courses-data.s3.us.cloud-object-storage.appdomain.cloud/IBMDeveloperSkillsNetwork-DS0105EN-SkillsNetwork/labs/Module2/images/SN_web_lightmode.png\" width=\"300\" alt=\"cognitiveclass.ai logo\">\n",
        "</center>\n"
      ]
    },
    {
      "cell_type": "markdown",
      "metadata": {
        "id": "I-MsODx3H8e3"
      },
      "source": [
        "#### Add your code below following the instructions given in the course\n"
      ]
    },
    {
      "cell_type": "markdown",
      "metadata": {
        "id": "9XsKe9hCH8e3"
      },
      "source": [
        "# Data Science Tools and Ecosystem"
      ]
    },
    {
      "cell_type": "markdown",
      "metadata": {
        "id": "LoImCkR7H8e3"
      },
      "source": [
        "### In this notebook, Data Science Tools and Ecosystem are summarized."
      ]
    },
    {
      "cell_type": "markdown",
      "metadata": {
        "tags": [],
        "id": "VvIEwLbdH8e3"
      },
      "source": [
        "**Objectives:**"
      ]
    },
    {
      "cell_type": "markdown",
      "metadata": {
        "id": "_NiJ2u_rH8e3"
      },
      "source": [
        "- List some popular languages in Data Science\n",
        "- List some common libraries used by Data Scientists\n",
        "- Sort examples of Data Science Open Source Tools\n",
        "- Show some arithmetic expressions"
      ]
    },
    {
      "cell_type": "markdown",
      "metadata": {
        "id": "9vrEh5AsH8e4"
      },
      "source": [
        "#### Some of the popular languages that Data Scientists use are:"
      ]
    },
    {
      "cell_type": "markdown",
      "metadata": {
        "id": "9tqbGHSvH8e4"
      },
      "source": [
        "1. Python\n",
        "2. R\n",
        "3. SQL\n",
        "4. Scala\n",
        "5. Java\n",
        "6. C++\n",
        "7. Julia"
      ]
    },
    {
      "cell_type": "markdown",
      "metadata": {
        "tags": [],
        "id": "TOcLAZWFH8e4"
      },
      "source": [
        "#### Some of the commonly used libraries used by Data Scientists include:"
      ]
    },
    {
      "cell_type": "markdown",
      "metadata": {
        "id": "KajAZvCIH8e4"
      },
      "source": [
        "1. Pandas\n",
        "2. NumPy\n",
        "3. SciPy\n",
        "4. Matplotlib"
      ]
    },
    {
      "cell_type": "markdown",
      "metadata": {
        "id": "pp1UCkfAH8e4"
      },
      "source": [
        "| Data Science Tools|\n",
        "---------------------\n",
        "| Jupyter Notebooks |\n",
        "| Apache Zeppelin |\n",
        "| RStudio|"
      ]
    },
    {
      "cell_type": "markdown",
      "metadata": {
        "id": "wfTfCaL2H8e4"
      },
      "source": [
        "### Below are a few examples of evaluating arithmetic expressions in Python:"
      ]
    },
    {
      "cell_type": "code",
      "execution_count": null,
      "metadata": {
        "tags": [],
        "id": "y6rtruCuH8e4",
        "outputId": "3ecc204b-7d78-433f-d3cb-52ac78bd7d57"
      },
      "outputs": [
        {
          "data": {
            "text/plain": [
              "17"
            ]
          },
          "execution_count": 2,
          "metadata": {},
          "output_type": "execute_result"
        }
      ],
      "source": [
        "# This a simple arithmetic expression to mutiply then add integers\n",
        "(3*4)+5"
      ]
    },
    {
      "cell_type": "code",
      "execution_count": null,
      "metadata": {
        "tags": [],
        "id": "S4GXVd5sH8e5",
        "outputId": "fb8eae23-0080-474c-dc0f-fa268bead698"
      },
      "outputs": [
        {
          "name": "stdout",
          "output_type": "stream",
          "text": [
            "3.3333333333333335 hours\n"
          ]
        }
      ],
      "source": [
        "# This will convert 200 minutes to hours by diving by 60\n",
        "minutes = 200\n",
        "hours = minutes/60\n",
        "print(hours, 'hours' )"
      ]
    },
    {
      "cell_type": "markdown",
      "metadata": {
        "id": "ID0cZKNmH8e6"
      },
      "source": [
        "## Author: \n",
        "Angélica Saraiva Rangel de Sá"
      ]
    },
    {
      "cell_type": "code",
      "execution_count": null,
      "metadata": {
        "id": "s3FXlwZlH8e6"
      },
      "outputs": [],
      "source": []
    }
  ],
  "metadata": {
    "kernelspec": {
      "display_name": "Python",
      "language": "python",
      "name": "conda-env-python-py"
    },
    "language_info": {
      "codemirror_mode": {
        "name": "ipython",
        "version": 3
      },
      "file_extension": ".py",
      "mimetype": "text/x-python",
      "name": "python",
      "nbconvert_exporter": "python",
      "pygments_lexer": "ipython3",
      "version": "3.7.12"
    },
    "colab": {
      "provenance": [],
      "include_colab_link": true
    }
  },
  "nbformat": 4,
  "nbformat_minor": 0
}